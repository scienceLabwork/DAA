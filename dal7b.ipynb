{
 "cells": [
  {
   "cell_type": "code",
   "execution_count": 2,
   "metadata": {},
   "outputs": [],
   "source": [
    "vertices = [[1,2],[1,3],[1,4],[1,5],[2,3],[3,4],[4,5]]\n",
    "weight = [1,7,10,5,3,4,2]"
   ]
  },
  {
   "cell_type": "code",
   "execution_count": 14,
   "metadata": {},
   "outputs": [
    {
     "name": "stdout",
     "output_type": "stream",
     "text": [
      "1 2 3 4 5\n",
      "10\n"
     ]
    }
   ],
   "source": [
    "\n",
    "minev = min(min(vertices))\n",
    "maxev = max(max(vertices))\n",
    "mstlen = maxev-minev+1\n",
    "\n",
    "mst = [minev]\n",
    "summst = 0\n",
    "mstweight = []\n",
    "vis = []\n",
    "\n",
    "while(1):\n",
    "    if(len(mst)==mstlen):\n",
    "        break\n",
    "    temp = []\n",
    "    for i in range(len(vertices)):\n",
    "        if(mst[-1] in vertices[i]):\n",
    "            ltemp = vertices[i].copy()\n",
    "            ltemp.remove(mst[-1])\n",
    "            ltemp.append(weight[i])\n",
    "            if(ltemp[0] not in mst):\n",
    "                temp.append(ltemp)\n",
    "\n",
    "    vis+=temp\n",
    "    minw = min([i[1] for i in vis])\n",
    "    minv = 0\n",
    "\n",
    "    vis = sorted(vis, key=lambda x: x[1])\n",
    "\n",
    "    for i in range(len(vis)):\n",
    "        if(minw in vis[i]):\n",
    "            minv = vis[i][0]\n",
    "            summst+=vis[i][1]\n",
    "            mstweight.append(vis[i][1])\n",
    "            break \n",
    "            \n",
    "    mst.append(minv)\n",
    "    vis.remove([minv,minw])\n",
    "print(*mst)\n",
    "print(summst)"
   ]
  }
 ],
 "metadata": {
  "kernelspec": {
   "display_name": "Python 3",
   "language": "python",
   "name": "python3"
  },
  "language_info": {
   "codemirror_mode": {
    "name": "ipython",
    "version": 3
   },
   "file_extension": ".py",
   "mimetype": "text/x-python",
   "name": "python",
   "nbconvert_exporter": "python",
   "pygments_lexer": "ipython3",
   "version": "3.11.3"
  },
  "orig_nbformat": 4
 },
 "nbformat": 4,
 "nbformat_minor": 2
}
