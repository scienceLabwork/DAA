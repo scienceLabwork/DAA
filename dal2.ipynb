{
 "cells": [
  {
   "attachments": {},
   "cell_type": "markdown",
   "metadata": {},
   "source": [
    "## LAB 2: Design and Analysis of Algorithms\n",
    "Name: Rudra Shah <br>\n",
    "Roll Number: 21BCM054\n",
    "##### Q2. Implement iterative and full recursive version of : Insertion Sort and Bubble Sort. Analyze time and space complexity of algorithms. Analyze the time taken by different looping constructs."
   ]
  },
  {
   "attachments": {},
   "cell_type": "markdown",
   "metadata": {},
   "source": [
    "##### Import Library"
   ]
  },
  {
   "cell_type": "code",
   "execution_count": 99,
   "metadata": {},
   "outputs": [],
   "source": [
    "import math\n",
    "import pandas as pd\n",
    "import matplotlib.pyplot as plt\n",
    "import random"
   ]
  },
  {
   "cell_type": "code",
   "execution_count": 100,
   "metadata": {},
   "outputs": [
    {
     "name": "stdout",
     "output_type": "stream",
     "text": [
      "Best Case:  [1, 2, 3, 4, 5]\n",
      "Worst Case:  [5, 4, 3, 2, 1]\n"
     ]
    }
   ],
   "source": [
    "rangeLim = 5\n",
    "best = [i+1 for i in range(rangeLim)]\n",
    "worst = best[::-1]\n",
    "print(\"Best Case: \",best)\n",
    "print(\"Worst Case: \",worst)"
   ]
  },
  {
   "attachments": {},
   "cell_type": "markdown",
   "metadata": {},
   "source": [
    "##### Iterative Algorithm of Bubble Sort"
   ]
  },
  {
   "cell_type": "code",
   "execution_count": 101,
   "metadata": {},
   "outputs": [
    {
     "name": "stdout",
     "output_type": "stream",
     "text": [
      "Total Step Performed:  4\n",
      "Total Step Performed:  16\n"
     ]
    }
   ],
   "source": [
    "# Complexity: O(n^2)\n",
    "def bubbleSort(x):\n",
    "    c = 0\n",
    "    for j in range(rangeLim):  # n times\n",
    "        for i in range(rangeLim-1): # n-1 times\n",
    "            if(x[i+1]<x[i]): # 1 time\n",
    "                x[i],x[i+1] = x[i+1],x[i] # 1 time\n",
    "            c+=1\n",
    "        if(x==best):\n",
    "            break\n",
    "    return c\n",
    "print(\"Total Step Performed: \",bubbleSort(best))\n",
    "print(\"Total Step Performed: \",bubbleSort(worst))"
   ]
  },
  {
   "attachments": {},
   "cell_type": "markdown",
   "metadata": {},
   "source": [
    "##### Recursive Algorithm of Bubble Sort"
   ]
  },
  {
   "cell_type": "code",
   "execution_count": 102,
   "metadata": {},
   "outputs": [
    {
     "name": "stdout",
     "output_type": "stream",
     "text": [
      "Total Step Performed:  4\n",
      "Total Step Performed:  16\n"
     ]
    }
   ],
   "source": [
    "# Complexity: O(n^2)\n",
    "c2 = 0\n",
    "c3 = 0\n",
    "def bubbleSortIter(x):\n",
    "    global c2,c3\n",
    "    if(len(x)==1):\n",
    "        return x\n",
    "    c2+=1\n",
    "    c3+=2\n",
    "    for i in range(len(x)-1):\n",
    "        if(x[i+1]<x[i]):\n",
    "            x[i],x[i+1] = x[i+1],x[i]\n",
    "    return bubbleSortIter(x[:-1])+[x[-1]]\n",
    "bubbleSortIter(best)\n",
    "print(\"Total Step Performed: \",c2)\n",
    "bubbleSortIter(worst)\n",
    "print(\"Total Step Performed: \",c3)"
   ]
  },
  {
   "attachments": {},
   "cell_type": "markdown",
   "metadata": {},
   "source": [
    "##### Iterative Algorithm of Insertion Sort"
   ]
  },
  {
   "cell_type": "code",
   "execution_count": 103,
   "metadata": {},
   "outputs": [
    {
     "name": "stdout",
     "output_type": "stream",
     "text": [
      "Total Step Performed:  4\n",
      "Total Step Performed:  16\n"
     ]
    }
   ],
   "source": [
    "# Complexity: O(n^2)\n",
    "def insertionSort(x):\n",
    "    c1 = 0\n",
    "    c2 = 0\n",
    "    for i in range(1, len(x)):\n",
    "        key = x[i]\n",
    "        j = i - 1  \n",
    "        c1+=1    \n",
    "        c2+=4\n",
    "        while j >= 0 and key < x[j]:\n",
    "            x[j + 1] = x[j]\n",
    "            j = j - 1\n",
    "        x[j + 1] = key\n",
    "    return [c1,c2]\n",
    "print(\"Total Step Performed: \",insertionSort(best)[0])\n",
    "print(\"Total Step Performed: \",insertionSort([5,4,3,2,1])[1])"
   ]
  },
  {
   "attachments": {},
   "cell_type": "markdown",
   "metadata": {},
   "source": [
    "##### Recursive Algorithm of Insertion Sort"
   ]
  },
  {
   "cell_type": "code",
   "execution_count": 104,
   "metadata": {},
   "outputs": [
    {
     "name": "stdout",
     "output_type": "stream",
     "text": [
      "Total Step Performed:  4\n",
      "Total Step Performed:  16\n"
     ]
    }
   ],
   "source": [
    "# Complexity: O(n^2)\n",
    "c6 = 1\n",
    "c7 = 1\n",
    "def insertionSortRecursive(x,n):\n",
    "    global c6,c7\n",
    "    c6+=1\n",
    "    c7+=2\n",
    "    if n<=1:\n",
    "        return\n",
    "    last = x[n-1]\n",
    "    j = n-2\n",
    "    while (j>=0 and x[j]>last):\n",
    "        x[j+1] = x[j]\n",
    "        j = j-1\n",
    "    x[j+1]=last\n",
    "    insertionSortRecursive(x,n-1)\n",
    "    return [c6,c7]\n",
    "print(\"Total Step Performed: \",insertionSort(best)[0])\n",
    "print(\"Total Step Performed: \",insertionSort(worst)[1])"
   ]
  },
  {
   "attachments": {},
   "cell_type": "markdown",
   "metadata": {},
   "source": [
    "## Summary"
   ]
  },
  {
   "attachments": {},
   "cell_type": "markdown",
   "metadata": {},
   "source": [
    "Table : Time Complexity of Algorithms\n",
    "\n",
    "<table>\n",
    "<thead>\n",
    "<tr>\n",
    "<th>Algorithm</th>\n",
    "<th>Time Complexity(Best)</th>\n",
    "<th>Time Complexity(Worst)</th>\n",
    "<th>Time Complexity(Avg)</th>\n",
    "</tr>\n",
    "</thead>\n",
    "<tbody>\n",
    "<tr>\n",
    "<td>Insertion Sort</td>\n",
    "<td>O(n)</td>\n",
    "<td>O(n<sup>2</sup>)</td>\n",
    "<td>O(n<sup>2</sup>)</td>\n",
    "</tr>\n",
    "<tr>\n",
    "<td>Bubble Sort</td>\n",
    "<td>O(n)</td>\n",
    "<td>O(n<sup>2</sup>)</td>\n",
    "<td>O(n<sup>2</sup>)</td>\n",
    "</tr>\n",
    "</tbody>\n",
    "</table>\n",
    "\n",
    "Table : Space Complexity of Algorithms\n",
    "\n",
    "<table>\n",
    "<thead>\n",
    "<tr>\n",
    "<th>Algorithm</th>\n",
    "<th>Space Complexity</th>\n",
    "</tr>\n",
    "</thead>\n",
    "<tbody>\n",
    "<tr>\n",
    "<td>Insertion Sort</td>\n",
    "<td>O(1)</td>\n",
    "</tr>\n",
    "<tr>\n",
    "<td>Bubble Sort</td>\n",
    "<td>O(1)</td>\n",
    "</tr>\n",
    "</tbody>\n",
    "</table>\n",
    "\n",
    "## Conclusion\n",
    "\n",
    "From the above table, we can conclude that the time complexity of both the algorithms is O(n<sup>2</sup>) in worst case and O(n) in best case. The space complexity of both the algorithms is O(1). The time taken by different looping constructs is shown in the table below. This Time Complexity is calculated by analyzing the number of iterations in the loop.\n"
   ]
  }
 ],
 "metadata": {
  "kernelspec": {
   "display_name": "Python 3",
   "language": "python",
   "name": "python3"
  },
  "language_info": {
   "codemirror_mode": {
    "name": "ipython",
    "version": 3
   },
   "file_extension": ".py",
   "mimetype": "text/x-python",
   "name": "python",
   "nbconvert_exporter": "python",
   "pygments_lexer": "ipython3",
   "version": "3.9.6"
  },
  "orig_nbformat": 4,
  "vscode": {
   "interpreter": {
    "hash": "31f2aee4e71d21fbe5cf8b01ff0e069b9275f58929596ceb00d14d90e3e16cd6"
   }
  }
 },
 "nbformat": 4,
 "nbformat_minor": 2
}
