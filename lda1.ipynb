{
 "cells": [
  {
   "attachments": {},
   "cell_type": "markdown",
   "metadata": {},
   "source": [
    "### Kruskal's Algorithm"
   ]
  },
  {
   "cell_type": "code",
   "execution_count": 12,
   "metadata": {},
   "outputs": [
    {
     "name": "stdout",
     "output_type": "stream",
     "text": [
      "[4, 1, 1]\n",
      "[1, 2, 2]\n",
      "[3, 2, 3]\n",
      "[5, 1, 4]\n",
      "[2, 6, 7]\n"
     ]
    },
    {
     "data": {
      "text/plain": [
       "17"
      ]
     },
     "execution_count": 12,
     "metadata": {},
     "output_type": "execute_result"
    }
   ],
   "source": [
    "ve = [[5,1,4],[5,4,9],[4,3,5],[4,1,1],[1,2,2],[4,2,3],[3,2,3],[3,6,8],[2,6,7]]\n",
    "mat0 = [0]*len(ve)\n",
    "mat = [mat0.copy() for i in range(len(ve))]\n",
    "\n",
    "for i in range(len(ve)):\n",
    "    mat[ve[i][0]][ve[i][1]] = ve[i][2]\n",
    "    mat[ve[i][1]][ve[i][0]] = ve[i][2]\n",
    "\n",
    "ve = sorted(ve, key= lambda x: x[2])\n",
    "visited = set()\n",
    "cost = 0\n",
    "for i in range(len(ve)):\n",
    "    if(ve[i][0] not in visited or ve[i][1] not in visited):\n",
    "        visited.add(ve[i][0])\n",
    "        visited.add(ve[i][1])\n",
    "        cost+=ve[i][2]\n",
    "        print(ve[i])\n",
    "cost"
   ]
  },
  {
   "attachments": {},
   "cell_type": "markdown",
   "metadata": {},
   "source": [
    "### N Queen Problem"
   ]
  },
  {
   "cell_type": "code",
   "execution_count": null,
   "metadata": {},
   "outputs": [],
   "source": []
  }
 ],
 "metadata": {
  "kernelspec": {
   "display_name": "Python 3",
   "language": "python",
   "name": "python3"
  },
  "language_info": {
   "codemirror_mode": {
    "name": "ipython",
    "version": 3
   },
   "file_extension": ".py",
   "mimetype": "text/x-python",
   "name": "python",
   "nbconvert_exporter": "python",
   "pygments_lexer": "ipython3",
   "version": "3.11.3"
  },
  "orig_nbformat": 4
 },
 "nbformat": 4,
 "nbformat_minor": 2
}
