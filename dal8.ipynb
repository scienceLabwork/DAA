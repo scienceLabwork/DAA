{
 "cells": [
  {
   "attachments": {},
   "cell_type": "markdown",
   "metadata": {},
   "source": [
    "## LAB 8: Design and Analysis of Algorithms\n",
    "Name: Rudra Shah <br>\n",
    "Roll Number: 21BCM054\n",
    "##### Q8. Applying dynamic programming methodology to find minimum number of multiplications to multiply the chain of matrices. Also find the order in which we should multiply the algorithm in order to minimize the no of multiplication."
   ]
  },
  {
   "cell_type": "code",
   "execution_count": 17,
   "metadata": {},
   "outputs": [],
   "source": [
    "import numpy as np"
   ]
  },
  {
   "attachments": {},
   "cell_type": "markdown",
   "metadata": {},
   "source": [
    "### Dimension of matrix"
   ]
  },
  {
   "cell_type": "code",
   "execution_count": 18,
   "metadata": {},
   "outputs": [
    {
     "name": "stdout",
     "output_type": "stream",
     "text": [
      "Dimension of Matrix: 3X2 2X4 4X2 2X5\n"
     ]
    }
   ],
   "source": [
    "d = [3,2,4,2,5]\n",
    "print(f\"Dimension of Matrix: {d[0]}X{d[1]} {d[1]}X{d[2]} {d[2]}X{d[3]} {d[3]}X{d[4]}\")"
   ]
  },
  {
   "attachments": {},
   "cell_type": "markdown",
   "metadata": {},
   "source": [
    "### DP Array"
   ]
  },
  {
   "cell_type": "code",
   "execution_count": 19,
   "metadata": {},
   "outputs": [
    {
     "data": {
      "text/plain": [
       "[[0, 0, 0, 0], [0, 0, 0, 0], [0, 0, 0, 0], [0, 0, 0, 0]]"
      ]
     },
     "execution_count": 19,
     "metadata": {},
     "output_type": "execute_result"
    }
   ],
   "source": [
    "dp = np.zeros(shape=(len(d)-1,len(d)-1), dtype=int)\n",
    "dp = dp.tolist()\n",
    "dp"
   ]
  },
  {
   "attachments": {},
   "cell_type": "markdown",
   "metadata": {},
   "source": [
    "### k DP Array"
   ]
  },
  {
   "cell_type": "code",
   "execution_count": 20,
   "metadata": {},
   "outputs": [
    {
     "data": {
      "text/plain": [
       "[[0, 0, 0, 0], [0, 0, 0, 0], [0, 0, 0, 0], [0, 0, 0, 0]]"
      ]
     },
     "execution_count": 20,
     "metadata": {},
     "output_type": "execute_result"
    }
   ],
   "source": [
    "dpk = np.zeros(shape=(len(d)-1,len(d)-1), dtype=int)\n",
    "dpk = dpk.tolist()\n",
    "dpk"
   ]
  },
  {
   "attachments": {},
   "cell_type": "markdown",
   "metadata": {},
   "source": [
    "### Algorithm using DP"
   ]
  },
  {
   "cell_type": "code",
   "execution_count": 25,
   "metadata": {},
   "outputs": [
    {
     "name": "stdout",
     "output_type": "stream",
     "text": [
      "Minimum Number of Multiplications to Multiply the chain of Matrices: 58\n"
     ]
    }
   ],
   "source": [
    "for i in range(len(d)-1):\n",
    "    for j in range(len(d)-1):\n",
    "        if(i==j):\n",
    "            dp[i][j] = 0\n",
    "        elif(i<j):\n",
    "            mmin = float('INF')\n",
    "            for k in range(i,j):\n",
    "                kmin = dp[i][k]+dp[k+1][j]+(d[i]*d[k+1]*d[j+1])\n",
    "                if(kmin<mmin):\n",
    "                    mmin = kmin\n",
    "                    dpk[i][j] = k+1\n",
    "            dp[i][j] = mmin\n",
    "print(\"Minimum Number of Multiplications to Multiply the chain of Matrices: {}\".format(dp[0][len(dp)-1]))"
   ]
  },
  {
   "attachments": {},
   "cell_type": "markdown",
   "metadata": {},
   "source": [
    "### Matrix Representation"
   ]
  },
  {
   "cell_type": "code",
   "execution_count": 28,
   "metadata": {},
   "outputs": [
    {
     "name": "stdout",
     "output_type": "stream",
     "text": [
      "[0, 24, 28, 58]\n",
      "[0, 0, 16, 36]\n",
      "[0, 0, 0, 40]\n",
      "[0, 0, 0, 0]\n"
     ]
    }
   ],
   "source": [
    "for i in range(len(dp)):\n",
    "    print(dp[i])"
   ]
  },
  {
   "attachments": {},
   "cell_type": "markdown",
   "metadata": {},
   "source": [
    "### Order of Multiplication"
   ]
  },
  {
   "cell_type": "code",
   "execution_count": 26,
   "metadata": {},
   "outputs": [
    {
     "name": "stdout",
     "output_type": "stream",
     "text": [
      "Final Multiplication order of the Matrix: ((A1) x A2 x A3) x A4\n"
     ]
    }
   ],
   "source": [
    "nm = dpk[0][2:]\n",
    "fans = [\"A{}\".format(i+1) for i in range(len(d)-1)]\n",
    "\n",
    "for i in range(len(fans)):\n",
    "    if(int(fans[i][1]) in nm):\n",
    "        fans[i] = fans[i]+\")\"\n",
    "\n",
    "print('Final Multiplication order of the Matrix: '+'('*len(nm)+' x '.join(fans))"
   ]
  }
 ],
 "metadata": {
  "kernelspec": {
   "display_name": "Python 3",
   "language": "python",
   "name": "python3"
  },
  "language_info": {
   "codemirror_mode": {
    "name": "ipython",
    "version": 3
   },
   "file_extension": ".py",
   "mimetype": "text/x-python",
   "name": "python",
   "nbconvert_exporter": "python",
   "pygments_lexer": "ipython3",
   "version": "3.11.3"
  },
  "orig_nbformat": 4
 },
 "nbformat": 4,
 "nbformat_minor": 2
}
