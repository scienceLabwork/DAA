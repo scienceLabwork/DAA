{
 "cells": [
  {
   "attachments": {},
   "cell_type": "markdown",
   "metadata": {},
   "source": [
    "## LAB 10: Design and Analysis of Algorithms\n",
    "Name: Rudra Shah <br>\n",
    "Roll Number: 21BCM054\n",
    "##### Q10. Implement Binary Knapsack using Branch and Bound Technique."
   ]
  },
  {
   "cell_type": "code",
   "execution_count": 53,
   "metadata": {},
   "outputs": [],
   "source": [
    "import itertools"
   ]
  },
  {
   "attachments": {},
   "cell_type": "markdown",
   "metadata": {},
   "source": [
    "### Sample Case"
   ]
  },
  {
   "cell_type": "code",
   "execution_count": 54,
   "metadata": {},
   "outputs": [],
   "source": [
    "profit = [10,10,12,18]\n",
    "weight = [2,4,6,9]\n",
    "capacity = 15"
   ]
  },
  {
   "attachments": {},
   "cell_type": "markdown",
   "metadata": {},
   "source": [
    "### Algorithm"
   ]
  },
  {
   "cell_type": "code",
   "execution_count": 55,
   "metadata": {},
   "outputs": [],
   "source": [
    "def knapsack(profit,weight,capacity):\n",
    "    n = len(profit)\n",
    "    binans = [0]*n\n",
    "    mmax = 0\n",
    "    maxp = 0\n",
    "    l = []\n",
    "    for i in range(2,n):\n",
    "        als = list(itertools.product(weight, repeat=i))\n",
    "        for j in range(len(als)):\n",
    "            if(sum(als[j])<=capacity):\n",
    "                if(sum(als[j])>=mmax):\n",
    "                    l = [profit[weight.index(als[j][i])] for i in range(len(als[j]))]\n",
    "                    if(sum(l)>maxp):\n",
    "                        mmax = sum(als[j])\n",
    "                        maxp = sum(l)\n",
    "    profitc = profit.copy()\n",
    "    for i in range(len(l)):\n",
    "        binans[profitc.index(l[i])] = 1\n",
    "        profitc[profitc.index(l[i])] = -1\n",
    "    \n",
    "    return maxp,binans"
   ]
  },
  {
   "cell_type": "code",
   "execution_count": 56,
   "metadata": {},
   "outputs": [
    {
     "name": "stdout",
     "output_type": "stream",
     "text": [
      "Max profit:  38\n",
      "Items:  [1, 1, 0, 1]\n"
     ]
    }
   ],
   "source": [
    "maxp,binans = knapsack(profit,weight,capacity)\n",
    "print(\"Max profit: \",maxp)\n",
    "print(\"Items: \",binans)"
   ]
  }
 ],
 "metadata": {
  "kernelspec": {
   "display_name": "Python 3",
   "language": "python",
   "name": "python3"
  },
  "language_info": {
   "codemirror_mode": {
    "name": "ipython",
    "version": 3
   },
   "file_extension": ".py",
   "mimetype": "text/x-python",
   "name": "python",
   "nbconvert_exporter": "python",
   "pygments_lexer": "ipython3",
   "version": "3.11.3"
  },
  "orig_nbformat": 4
 },
 "nbformat": 4,
 "nbformat_minor": 2
}
