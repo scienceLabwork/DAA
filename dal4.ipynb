{
 "cells": [
  {
   "attachments": {},
   "cell_type": "markdown",
   "metadata": {},
   "source": [
    "## LAB 4: Design and Analysis of Algorithms\n",
    "Name: Rudra Shah <br>\n",
    "Roll Number: 21BCM054\n",
    "##### Q4. Applying divide and conquer method to sort n elements using quick sort."
   ]
  },
  {
   "attachments": {},
   "cell_type": "markdown",
   "metadata": {},
   "source": [
    "### Important Libraries"
   ]
  },
  {
   "cell_type": "code",
   "execution_count": 9,
   "metadata": {},
   "outputs": [],
   "source": [
    "import random\n",
    "import numpy as np\n",
    "import time\n",
    "import matplotlib.pyplot as plt"
   ]
  },
  {
   "attachments": {},
   "cell_type": "markdown",
   "metadata": {},
   "source": [
    "### Pivot as Last element\n",
    " \n"
   ]
  },
  {
   "cell_type": "code",
   "execution_count": 10,
   "metadata": {},
   "outputs": [
    {
     "name": "stdout",
     "output_type": "stream",
     "text": [
      "[6, 8, 5, 1]\n",
      "[1, 5, 6, 8]\n"
     ]
    }
   ],
   "source": [
    "final =[]\n",
    "\n",
    "def partition(array, low, high):\n",
    "    pivot = array[high]\n",
    "    i = low - 1\n",
    "    for j in range(low, high):\n",
    "        if array[j] <= pivot:\n",
    "            i = i + 1\n",
    "            (array[i], array[j]) = (array[j], array[i])\n",
    "    (array[i + 1], array[high]) = (array[high], array[i + 1])\n",
    "    return i + 1\n",
    "\n",
    "def quickSort(array, low, high):\n",
    "    if low < high:\n",
    "        pi = partition(array, low, high)\n",
    "        quickSort(array, low, pi - 1)\n",
    "        quickSort(array, pi + 1, high)\n",
    "\n",
    "y = [random.randint(1,10) for i in range(4)]\n",
    "print(y)\n",
    "quickSort(y,0,len(y)-1)\n",
    "print(y)"
   ]
  },
  {
   "cell_type": "code",
   "execution_count": 11,
   "metadata": {},
   "outputs": [
    {
     "name": "stdout",
     "output_type": "stream",
     "text": [
      "4\n"
     ]
    }
   ],
   "source": [
    "t3 = []\n",
    "l = len(y)\n",
    "for i in range(100,1000):\n",
    "    start = time.time()\n",
    "    array = [random.randint(1,i) for k in range(i)]\n",
    "    quickSort(array,0,len(array)-1) \n",
    "    end = time.time()\n",
    "    t3.append([i,end-start])\n",
    "tt = end - start\n",
    "final.append([l, tt])\n",
    "print(final[0][0])"
   ]
  },
  {
   "attachments": {},
   "cell_type": "markdown",
   "metadata": {},
   "source": [
    "### Pivot as 1st element"
   ]
  },
  {
   "cell_type": "code",
   "execution_count": 12,
   "metadata": {},
   "outputs": [
    {
     "name": "stdout",
     "output_type": "stream",
     "text": [
      "[1, 4, 10, 8]\n",
      "[1, 4, 8, 10]\n"
     ]
    }
   ],
   "source": [
    "def partition_pivot_as_first_element(array, low, high):\n",
    "    \n",
    "\tpivot = array[low]\n",
    "\tstart = low + 1\n",
    "\tend = high\n",
    "\n",
    "\twhile True:\n",
    "\t\twhile start <= end and array[end] >= pivot:\n",
    "\t\t\tend = end - 1\n",
    "\n",
    "\t\twhile start <= end and array[start] <= pivot:\n",
    "\t\t\tstart = start + 1\n",
    "\n",
    "\t\tif start <= end:\n",
    "\t\t\tarray[start], array[end] = array[end], array[start]\n",
    "\t\telse:\n",
    "\t\t\tbreak\n",
    "\n",
    "\tarray[low], array[end] = array[end], array[low]\n",
    "\treturn end\n",
    "\n",
    "def quick_sort(array, start, end):\n",
    "\n",
    "\tif start < end:\n",
    "\t\tfe = partition_pivot_as_first_element(array, start, end)\n",
    "\t\tquick_sort(array, start, fe-1)\n",
    "\t\tquick_sort(array, fe+1, end)\n",
    "  \n",
    "x = [1,4,10,8]\n",
    "print(x)\n",
    "quick_sort(x,0,len(x)-1)\n",
    "print(x)"
   ]
  },
  {
   "cell_type": "code",
   "execution_count": 13,
   "metadata": {},
   "outputs": [
    {
     "name": "stdout",
     "output_type": "stream",
     "text": [
      "[[4, 0.0008981227874755859], [4, 0.0007879734039306641]]\n"
     ]
    }
   ],
   "source": [
    "x = [1,4,10,8]\n",
    "l = len(x)\n",
    "t1 = []\n",
    "tt = []\n",
    "for i in range(100,1000):\n",
    "    start = time.time()\n",
    "    array = [random.randint(1,i) for k in range(i)]\n",
    "    quick_sort(array,0,len(array)-1) \n",
    "    end = time.time()\n",
    "    t1.append([i,end-start])\n",
    "tt = end - start\n",
    "final.append([l, tt])\n",
    "print(final)\n",
    "#print(t1)"
   ]
  },
  {
   "attachments": {},
   "cell_type": "markdown",
   "metadata": {},
   "source": [
    "### Pivot random element"
   ]
  },
  {
   "cell_type": "code",
   "execution_count": 14,
   "metadata": {},
   "outputs": [
    {
     "name": "stdout",
     "output_type": "stream",
     "text": [
      "[10, 8, 6, 4]\n",
      "[4, 6, 8, 10]\n"
     ]
    }
   ],
   "source": [
    "def quicksort(arr, start, stop):\n",
    "\tif(start < stop):\n",
    "\t\tpivotindex = partitionrand(arr,start, stop)\n",
    "\n",
    "\t\tquicksort(arr , start , pivotindex)\n",
    "\t\tquicksort(arr, pivotindex + 1, stop)\n",
    "\n",
    "def partitionrand(arr , start, stop):\n",
    "\trandpivot = random.randrange(start, stop)\n",
    "\n",
    "\tarr[start], arr[randpivot] = arr[randpivot], arr[start]\n",
    "\treturn partition(arr, start, stop)\n",
    "\n",
    "def partition(arr,start,stop):\n",
    "\tpivot = start\n",
    "\ti = start - 1\n",
    "\tj = stop + 1\n",
    "\twhile True:\n",
    "\t\twhile True:\n",
    "\t\t\ti = i + 1\n",
    "\t\t\tif arr[i] >= arr[pivot]:\n",
    "\t\t\t\tbreak\n",
    "\t\twhile True:\n",
    "\t\t\tj = j - 1\n",
    "\t\t\tif arr[j] <= arr[pivot]:\n",
    "\t\t\t\tbreak\n",
    "\t\tif i >= j:\n",
    "\t\t\treturn j\n",
    "\t\tarr[i] , arr[j] = arr[j] , arr[i]\n",
    "  \n",
    "z = [10,8,6,4]\n",
    "print(z)\n",
    "quick_sort(z,0,len(z)-1)\n",
    "print(z)"
   ]
  },
  {
   "cell_type": "code",
   "execution_count": 15,
   "metadata": {},
   "outputs": [
    {
     "name": "stdout",
     "output_type": "stream",
     "text": [
      "[[4, 0.0008981227874755859], [4, 0.0007879734039306641], [4, 0.0012001991271972656]]\n"
     ]
    }
   ],
   "source": [
    "t2 = []\n",
    "l = len(z)\n",
    "for i in range(100,1000):\n",
    "    start = time.time()\n",
    "    array = [random.randint(1,i) for k in range(i)]\n",
    "    quicksort(array,0,len(array)-1) \n",
    "    end = time.time()\n",
    "    t2.append([i,end-start])\n",
    "tt = end - start\n",
    "final.append([l, tt])\n",
    "print(final)"
   ]
  },
  {
   "cell_type": "code",
   "execution_count": 16,
   "metadata": {},
   "outputs": [
    {
     "data": {
      "image/png": "[encoded data removed]",
      "text/plain": [
       "<Figure size 640x480 with 1 Axes>"
      ]
     },
     "metadata": {},
     "output_type": "display_data"
    }
   ],
   "source": [
    "plt.plot([i[0] for i in t2],[i[1] for i in t2])\n",
    "#plt.plot([i[0] for i in final],[i[1] for i in final])\n",
    "plt.show()"
   ]
  }
 ],
 "metadata": {
  "kernelspec": {
   "display_name": "Python 3.10.9 64-bit",
   "language": "python",
   "name": "python3"
  },
  "language_info": {
   "codemirror_mode": {
    "name": "ipython",
    "version": 3
   },
   "file_extension": ".py",
   "mimetype": "text/x-python",
   "name": "python",
   "nbconvert_exporter": "python",
   "pygments_lexer": "ipython3",
   "version": "3.11.3"
  },
  "orig_nbformat": 4,
  "vscode": {
   "interpreter": {
    "hash": "b0fa6594d8f4cbf19f97940f81e996739fb7646882a419484c72d19e05852a7e"
   }
  }
 },
 "nbformat": 4,
 "nbformat_minor": 2
}
